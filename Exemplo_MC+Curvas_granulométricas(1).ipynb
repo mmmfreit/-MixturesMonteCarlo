{
  "nbformat": 4,
  "nbformat_minor": 0,
  "metadata": {
    "anaconda-cloud": {},
    "kernelspec": {
      "display_name": "Python 3",
      "language": "python",
      "name": "python3"
    },
    "language_info": {
      "codemirror_mode": {
        "name": "ipython",
        "version": 3
      },
      "file_extension": ".py",
      "mimetype": "text/x-python",
      "name": "python",
      "nbconvert_exporter": "python",
      "pygments_lexer": "ipython3",
      "version": "3.7.5"
    },
    "colab": {
      "provenance": [],
      "include_colab_link": true
    }
  },
  "cells": [
    {
      "cell_type": "markdown",
      "metadata": {
        "id": "view-in-github",
        "colab_type": "text"
      },
      "source": [
        "<a href=\"https://colab.research.google.com/github/emiliomercuri/MixturesMonteCarlo/blob/main/notebooks/Exemplo_MC%2BCurvas_granulome%CC%81tricas.ipynb\" target=\"_parent\"><img src=\"https://colab.research.google.com/assets/colab-badge.svg\" alt=\"Open In Colab\"/></a>"
      ]
    },
    {
      "cell_type": "markdown",
      "metadata": {
        "id": "4tohmYKyZrL3"
      },
      "source": [
        "# Simulação Monte Carlo para misturas de 4 materiais\n",
        "\n",
        "Código Python para calcular o menor somatório de RSS de misturas ternárias em relação à relação de Alfred (Funk and Dinger, 1980).\n",
        "\n",
        "## Modelo para predição do empacotamento de partículas\n",
        "\n",
        "Funk and Dinger (1980): q = 0.37 (maximum packing density: spheres)\n",
        "\n",
        "Cumulative Percentage Finer Then (CPFT) $d$\n",
        "\n",
        "$$\n",
        "\\text{CPFT}= \\frac{d^q-D_{\\rm Min}^q}{D_{\\rm Max}^q-D_{\\rm Min}^q}\n",
        "$$\n",
        "\n",
        "Where:\n",
        "\n",
        "* $d$: particle diameter (sieve openings) (mm);\n",
        "* $D_{\\rm Min}$: minimum particle diameter (mm);\n",
        "* $D_{\\rm Max}$: maximum particle diameter (mm);\n",
        "* $q$: distribution modulus.\n"
      ]
    },
    {
      "cell_type": "code",
      "metadata": {
        "id": "Sz2ra6d5ZrL4"
      },
      "source": [
        "# Importando bibliotecas\n",
        "import pandas as pd\n",
        "import numpy\n",
        "import random"
      ],
      "execution_count": 5,
      "outputs": []
    },
    {
      "cell_type": "markdown",
      "metadata": {
        "id": "nQjZTsVwZrL8"
      },
      "source": [
        "### Importanto os CSVs"
      ]
    },
    {
      "cell_type": "code",
      "metadata": {
        "id": "KzzBTTC4ZrL8"
      },
      "source": [
        "dt = pd.read_csv('https://raw.githubusercontent.com/emiliomercuri/MixturesMonteCarlo/main/data/dados_dosagem_mistura.csv',sep=',')"
      ],
      "execution_count": 6,
      "outputs": []
    },
    {
      "cell_type": "code",
      "metadata": {
        "id": "W14HupszZrL_",
        "colab": {
          "base_uri": "https://localhost:8080/",
          "height": 143
        },
        "outputId": "0a3c1f01-96c9-4a30-c2f7-fa702344a6e4"
      },
      "source": [
        "dt[0:3]"
      ],
      "execution_count": 9,
      "outputs": [
        {
          "output_type": "execute_result",
          "data": {
            "text/plain": [
              "   diametro(mm)  Cimento  Areia  Pedrisco  Brita\n",
              "0          25.0    100.0  100.0    100.00  98.82\n",
              "1          19.0    100.0  100.0    100.00  80.69\n",
              "2          12.5    100.0  100.0     99.89  27.38"
            ],
            "text/html": [
              "\n",
              "  <div id=\"df-aeda323b-242a-42bf-8d28-d8a1849a4494\">\n",
              "    <div class=\"colab-df-container\">\n",
              "      <div>\n",
              "<style scoped>\n",
              "    .dataframe tbody tr th:only-of-type {\n",
              "        vertical-align: middle;\n",
              "    }\n",
              "\n",
              "    .dataframe tbody tr th {\n",
              "        vertical-align: top;\n",
              "    }\n",
              "\n",
              "    .dataframe thead th {\n",
              "        text-align: right;\n",
              "    }\n",
              "</style>\n",
              "<table border=\"1\" class=\"dataframe\">\n",
              "  <thead>\n",
              "    <tr style=\"text-align: right;\">\n",
              "      <th></th>\n",
              "      <th>diametro(mm)</th>\n",
              "      <th>Cimento</th>\n",
              "      <th>Areia</th>\n",
              "      <th>Pedrisco</th>\n",
              "      <th>Brita</th>\n",
              "    </tr>\n",
              "  </thead>\n",
              "  <tbody>\n",
              "    <tr>\n",
              "      <th>0</th>\n",
              "      <td>25.0</td>\n",
              "      <td>100.0</td>\n",
              "      <td>100.0</td>\n",
              "      <td>100.00</td>\n",
              "      <td>98.82</td>\n",
              "    </tr>\n",
              "    <tr>\n",
              "      <th>1</th>\n",
              "      <td>19.0</td>\n",
              "      <td>100.0</td>\n",
              "      <td>100.0</td>\n",
              "      <td>100.00</td>\n",
              "      <td>80.69</td>\n",
              "    </tr>\n",
              "    <tr>\n",
              "      <th>2</th>\n",
              "      <td>12.5</td>\n",
              "      <td>100.0</td>\n",
              "      <td>100.0</td>\n",
              "      <td>99.89</td>\n",
              "      <td>27.38</td>\n",
              "    </tr>\n",
              "  </tbody>\n",
              "</table>\n",
              "</div>\n",
              "      <button class=\"colab-df-convert\" onclick=\"convertToInteractive('df-aeda323b-242a-42bf-8d28-d8a1849a4494')\"\n",
              "              title=\"Convert this dataframe to an interactive table.\"\n",
              "              style=\"display:none;\">\n",
              "        \n",
              "  <svg xmlns=\"http://www.w3.org/2000/svg\" height=\"24px\"viewBox=\"0 0 24 24\"\n",
              "       width=\"24px\">\n",
              "    <path d=\"M0 0h24v24H0V0z\" fill=\"none\"/>\n",
              "    <path d=\"M18.56 5.44l.94 2.06.94-2.06 2.06-.94-2.06-.94-.94-2.06-.94 2.06-2.06.94zm-11 1L8.5 8.5l.94-2.06 2.06-.94-2.06-.94L8.5 2.5l-.94 2.06-2.06.94zm10 10l.94 2.06.94-2.06 2.06-.94-2.06-.94-.94-2.06-.94 2.06-2.06.94z\"/><path d=\"M17.41 7.96l-1.37-1.37c-.4-.4-.92-.59-1.43-.59-.52 0-1.04.2-1.43.59L10.3 9.45l-7.72 7.72c-.78.78-.78 2.05 0 2.83L4 21.41c.39.39.9.59 1.41.59.51 0 1.02-.2 1.41-.59l7.78-7.78 2.81-2.81c.8-.78.8-2.07 0-2.86zM5.41 20L4 18.59l7.72-7.72 1.47 1.35L5.41 20z\"/>\n",
              "  </svg>\n",
              "      </button>\n",
              "      \n",
              "  <style>\n",
              "    .colab-df-container {\n",
              "      display:flex;\n",
              "      flex-wrap:wrap;\n",
              "      gap: 12px;\n",
              "    }\n",
              "\n",
              "    .colab-df-convert {\n",
              "      background-color: #E8F0FE;\n",
              "      border: none;\n",
              "      border-radius: 50%;\n",
              "      cursor: pointer;\n",
              "      display: none;\n",
              "      fill: #1967D2;\n",
              "      height: 32px;\n",
              "      padding: 0 0 0 0;\n",
              "      width: 32px;\n",
              "    }\n",
              "\n",
              "    .colab-df-convert:hover {\n",
              "      background-color: #E2EBFA;\n",
              "      box-shadow: 0px 1px 2px rgba(60, 64, 67, 0.3), 0px 1px 3px 1px rgba(60, 64, 67, 0.15);\n",
              "      fill: #174EA6;\n",
              "    }\n",
              "\n",
              "    [theme=dark] .colab-df-convert {\n",
              "      background-color: #3B4455;\n",
              "      fill: #D2E3FC;\n",
              "    }\n",
              "\n",
              "    [theme=dark] .colab-df-convert:hover {\n",
              "      background-color: #434B5C;\n",
              "      box-shadow: 0px 1px 3px 1px rgba(0, 0, 0, 0.15);\n",
              "      filter: drop-shadow(0px 1px 2px rgba(0, 0, 0, 0.3));\n",
              "      fill: #FFFFFF;\n",
              "    }\n",
              "  </style>\n",
              "\n",
              "      <script>\n",
              "        const buttonEl =\n",
              "          document.querySelector('#df-aeda323b-242a-42bf-8d28-d8a1849a4494 button.colab-df-convert');\n",
              "        buttonEl.style.display =\n",
              "          google.colab.kernel.accessAllowed ? 'block' : 'none';\n",
              "\n",
              "        async function convertToInteractive(key) {\n",
              "          const element = document.querySelector('#df-aeda323b-242a-42bf-8d28-d8a1849a4494');\n",
              "          const dataTable =\n",
              "            await google.colab.kernel.invokeFunction('convertToInteractive',\n",
              "                                                     [key], {});\n",
              "          if (!dataTable) return;\n",
              "\n",
              "          const docLinkHtml = 'Like what you see? Visit the ' +\n",
              "            '<a target=\"_blank\" href=https://colab.research.google.com/notebooks/data_table.ipynb>data table notebook</a>'\n",
              "            + ' to learn more about interactive tables.';\n",
              "          element.innerHTML = '';\n",
              "          dataTable['output_type'] = 'display_data';\n",
              "          await google.colab.output.renderOutput(dataTable, element);\n",
              "          const docLink = document.createElement('div');\n",
              "          docLink.innerHTML = docLinkHtml;\n",
              "          element.appendChild(docLink);\n",
              "        }\n",
              "      </script>\n",
              "    </div>\n",
              "  </div>\n",
              "  "
            ]
          },
          "metadata": {},
          "execution_count": 9
        }
      ]
    },
    {
      "cell_type": "code",
      "metadata": {
        "id": "iMNuERTyZrMD"
      },
      "source": [
        "# Pode mudar o expoente aqui:\n",
        "q = 0.25\n",
        "\n",
        "diametro   = dt['diametro(mm)'].values\n",
        "cimento    = dt['Cimento'].values\n",
        "areia      = dt['Areia'].values\n",
        "pedrisco   = dt['Pedrisco'].values\n",
        "brita      = dt['Brita'].values"
      ],
      "execution_count": 11,
      "outputs": []
    },
    {
      "cell_type": "code",
      "metadata": {
        "id": "KMcPSYVdVhvf"
      },
      "source": [
        "# 0 = cimento\n",
        "# 1 = areia\n",
        "# 2 = pedrisco\n",
        "# 3 = brita"
      ],
      "execution_count": 14,
      "outputs": []
    },
    {
      "cell_type": "code",
      "source": [
        "proporcoes = numpy.random.uniform(0,1.0,size=3)\n",
        "proporcoes"
      ],
      "metadata": {
        "colab": {
          "base_uri": "https://localhost:8080/"
        },
        "id": "LWdMZVkwQ8kk",
        "outputId": "0e00151a-76b7-4b71-f5ce-9c77f2e6339c"
      },
      "execution_count": 20,
      "outputs": [
        {
          "output_type": "execute_result",
          "data": {
            "text/plain": [
              "array([0.03341356, 0.23983805, 0.44677944])"
            ]
          },
          "metadata": {},
          "execution_count": 20
        }
      ]
    },
    {
      "cell_type": "code",
      "source": [
        "1-proporcoes.sum()"
      ],
      "metadata": {
        "colab": {
          "base_uri": "https://localhost:8080/"
        },
        "id": "CBThrGg8RK7F",
        "outputId": "cf98a80f-2a0d-4bd8-860e-71911baafa1c"
      },
      "execution_count": 22,
      "outputs": [
        {
          "output_type": "execute_result",
          "data": {
            "text/plain": [
              "0.27996894457262456"
            ]
          },
          "metadata": {},
          "execution_count": 22
        }
      ]
    },
    {
      "cell_type": "code",
      "metadata": {
        "id": "gCERdumtQzrf"
      },
      "source": [
        "l_p_ci = []\n",
        "l_p_ar = []\n",
        "l_p_pe = []\n",
        "l_p_br = []\n",
        "\n",
        "n = 0 \n",
        "while n < 100000:\n",
        "  proporcoes = numpy.random.uniform(0,1.0,size=3)\n",
        "  if proporcoes.sum()<1.0:\n",
        "    #if proporcoes[1] >= 0.3*proporcoes[0]:\n",
        "      n += 1\n",
        "      proporcoes_lista = list(proporcoes)\n",
        "      proporcoes_lista.append(1-proporcoes.sum())\n",
        "      prop = numpy.array(proporcoes_lista)\n",
        "      #print(proporcoes_lista, prop.sum())\n",
        "      \n",
        "      # cimento\n",
        "      l_p_ci.append(proporcoes_lista[0])\n",
        "\n",
        "      # areia\n",
        "      l_p_ar.append(proporcoes_lista[1])\n",
        "\n",
        "      # pedrisco\n",
        "      l_p_pe.append(proporcoes_lista[2])\n",
        "\n",
        "      # brita\n",
        "      l_p_br.append(proporcoes_lista[3])         "
      ],
      "execution_count": 28,
      "outputs": []
    },
    {
      "cell_type": "code",
      "source": [
        "#l_p_ci"
      ],
      "metadata": {
        "id": "CvqQygPdSC_F"
      },
      "execution_count": 25,
      "outputs": []
    },
    {
      "cell_type": "markdown",
      "metadata": {
        "id": "3bceVVINZrMG"
      },
      "source": [
        "### Simulação Monte Carlo - Mistura de 4 materiais"
      ]
    },
    {
      "cell_type": "code",
      "metadata": {
        "id": "F04i_n4aZrMG"
      },
      "source": [
        "l_soma_rss = []\n",
        "    \n",
        "for k in range(100000):\n",
        "\n",
        "    conjunto = cimento*l_p_ci[k] + areia*l_p_ar[k] + pedrisco*l_p_pe[k] + brita*l_p_br[k]\n",
        "    alfred = 100*(((diametro**q)-(numpy.min(diametro))**q)/((numpy.max(diametro)**q)-(numpy.min(diametro)**q)))\n",
        "    rss = ((conjunto/100)-(alfred/100))**2 # residual squares\n",
        "    soma_rss = numpy.sum(rss) # residual sum of squares\n",
        "      \n",
        "    l_soma_rss.append(soma_rss)\n",
        "\n",
        "posicao = numpy.where(numpy.array(l_soma_rss) == numpy.min(l_soma_rss))\n",
        "pos = posicao[0][0]    "
      ],
      "execution_count": 29,
      "outputs": []
    },
    {
      "cell_type": "code",
      "metadata": {
        "id": "wfwlTDr_ZrMJ",
        "colab": {
          "base_uri": "https://localhost:8080/"
        },
        "outputId": "dc62364b-f93e-4e77-cb88-8b3da2c766b9"
      },
      "source": [
        "print(\"O menor somatório RSS é: \", l_soma_rss[pos])\n",
        "print(\" \")\n",
        "print(\"Proporção cimento: \", l_p_ci[pos])\n",
        "print(\"Proporção areia: \",   l_p_ar[pos])\n",
        "print(\"Proporção pedrisco: \",l_p_pe[pos])\n",
        "print(\"Proporção brita: \",   l_p_br[pos])"
      ],
      "execution_count": 30,
      "outputs": [
        {
          "output_type": "stream",
          "name": "stdout",
          "text": [
            "O menor somatório RSS é:  0.018445101670306514\n",
            " \n",
            "Proporção cimento:  0.10478717325704223\n",
            "Proporção areia:  0.41038472560391004\n",
            "Proporção pedrisco:  0.253765640827722\n",
            "Proporção brita:  0.2310624603113257\n"
          ]
        }
      ]
    },
    {
      "cell_type": "markdown",
      "source": [
        "O menor somatório RSS é:  0.0186386110013631\n",
        " \n",
        "Proporção cimento:  0.10224702562608012\n",
        "Proporção areia:  0.42732158036126056\n",
        "Proporção pedrisco:  0.22822015931563655\n",
        "Proporção brita:  0.24221123469702277"
      ],
      "metadata": {
        "id": "WHjuXGnNSzhq"
      }
    },
    {
      "cell_type": "code",
      "metadata": {
        "id": "whdj6eZ31ped"
      },
      "source": [],
      "execution_count": null,
      "outputs": []
    }
  ]
}