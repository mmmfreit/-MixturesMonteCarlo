{
  "nbformat": 4,
  "nbformat_minor": 0,
  "metadata": {
    "kernelspec": {
      "display_name": "Python 3",
      "language": "python",
      "name": "python3"
    },
    "language_info": {
      "codemirror_mode": {
        "name": "ipython",
        "version": 3
      },
      "file_extension": ".py",
      "mimetype": "text/x-python",
      "name": "python",
      "nbconvert_exporter": "python",
      "pygments_lexer": "ipython3",
      "version": "3.4.3"
    },
    "colab": {
      "provenance": [],
      "include_colab_link": true
    }
  },
  "cells": [
    {
      "cell_type": "markdown",
      "metadata": {
        "id": "view-in-github",
        "colab_type": "text"
      },
      "source": [
        "<a href=\"https://colab.research.google.com/github/emiliomercuri/montecarlo_mixtures/blob/main/notebooks/Algoritmos_de_Monte_Carlo_C%C3%A1lculo_de_Pi.ipynb\" target=\"_parent\"><img src=\"https://colab.research.google.com/assets/colab-badge.svg\" alt=\"Open In Colab\"/></a>"
      ]
    },
    {
      "cell_type": "markdown",
      "metadata": {
        "id": "hhosPoBe3rWr"
      },
      "source": [
        "## Introdução aos algoritmos de Monte Carlo\n",
        "\n",
        "Tutorial 1 - Algoritmos de Monte Carlo"
      ]
    },
    {
      "cell_type": "markdown",
      "metadata": {
        "id": "VVQStG_P3rWu"
      },
      "source": [
        "Imagine um jogo na praia de Monte Carlo (Mônaco), onde crianças jogam pedras dentro de um círculo circunscrito por um quadrado."
      ]
    },
    {
      "cell_type": "markdown",
      "metadata": {
        "id": "ZEdU3Uzu_D3b"
      },
      "source": [
        "<img src=\"https://www.dropbox.com/s/s2mljuvong6qwpw/IN_children.jpg?dl=1\" width=\"300\">\n"
      ]
    },
    {
      "cell_type": "markdown",
      "metadata": {
        "id": "DwEQ-vh13rWv"
      },
      "source": [
        "## Praias de Seixos\n",
        "\n",
        "Chama-se seixo a todo fragmento de mineral ou de rocha, menor do que bloco ou calhau e maior do que grânulo, e que na escala de Wentworth, de amplo uso em geologia, corresponde a diâmetro maior do que 4 mm e menor do que 64 mm.\n",
        "\n",
        "De acordo com uma norma da ABNT, a NBR 6502 sobre Rochas e solos - Terminologia de 1995, define-se pedregulho como: solos formados por minerais ou partículas de rocha, com diâmetro compreendido entre 2,0 mm até 60 mm quando arredondados ou semi-arredondados, são denominados de cascalho ou seixo."
      ]
    },
    {
      "cell_type": "markdown",
      "metadata": {
        "id": "nRczecFi_SnY"
      },
      "source": [
        "<img src=\"https://www.dropbox.com/s/gzpldrqax46lwln/img_0214.jpg?dl=1\" width=\"300\">"
      ]
    },
    {
      "cell_type": "code",
      "metadata": {
        "collapsed": true,
        "id": "QOB7PHEV3rWw"
      },
      "source": [
        "import numpy\n",
        "from matplotlib import pyplot\n",
        "%matplotlib inline"
      ],
      "execution_count": null,
      "outputs": []
    },
    {
      "cell_type": "markdown",
      "metadata": {
        "collapsed": true,
        "id": "a7V8PdH53rWw"
      },
      "source": [
        "Quando uma criança acerta o círculo $\\rightarrow$ **acerto**\n",
        "\n",
        "Quando a criança acerta o quadrado $\\rightarrow$ **tentativa**\n",
        "\n",
        "Área de um círculo de raio $r = 1$:\n",
        "\n",
        "$$\n",
        "A_{\\text{círculo}} = \\pi r^2 = \\pi\n",
        "$$\n",
        "\n",
        "Área de um quadrado de lado igual a 2:\n",
        "\n",
        "$$\n",
        "A_{\\text{quadrado}} = (2r)^2 = (2)^2 = 4\n",
        "$$\n",
        "\n",
        "O número de acertos sobre o número de tentativas $N_{\\text{acertos}}/N_{\\text{tentativas}}$ é proporcional à fração $A_{\\text{círculo}}/A_{\\text{quadrado}}$\n",
        "\n",
        "$$\n",
        "\\frac{N_{\\text{acertos}}}{N_{\\text{tentativas}}} \\approx \\frac{A_{\\text{círculo}}}{A_{\\text{quadrado}}} = \\frac{\\pi}{4}\n",
        "$$\n",
        "\n",
        "As crianças podem calcular o número $\\pi$ jogando pedras!! No limite de infinitos jogos das crianças temos:\n",
        "\n",
        "$$\n",
        "\\pi \\approx 4 \\frac{N_{\\text{acertos}}}{N_{\\text{tentativas}}} \n",
        "$$\n",
        "\n",
        "Veja o código considerando um jogo:"
      ]
    },
    {
      "cell_type": "code",
      "metadata": {
        "id": "s3h6blCD3rWx",
        "colab": {
          "base_uri": "https://localhost:8080/"
        },
        "outputId": "10985a4f-e360-4474-a037-a9160938f849"
      },
      "source": [
        "import random\n",
        "\n",
        "n_trials = 1000000\n",
        "n_hits = 0\n",
        "for iter in range(n_trials):\n",
        "    x = random.uniform(-1.0, 1.0)\n",
        "    y = random.uniform(-1.0, 1.0)\n",
        "    if x**2 + y**2 < 1.0: \n",
        "        n_hits = n_hits + 1\n",
        "print(4.0 * n_hits / float(n_trials))\n"
      ],
      "execution_count": null,
      "outputs": [
        {
          "output_type": "stream",
          "name": "stdout",
          "text": [
            "3.140364\n"
          ]
        }
      ]
    },
    {
      "cell_type": "code",
      "metadata": {
        "id": "lKP9cC1Ow-Ut"
      },
      "source": [
        "import math"
      ],
      "execution_count": null,
      "outputs": []
    },
    {
      "cell_type": "code",
      "metadata": {
        "colab": {
          "base_uri": "https://localhost:8080/"
        },
        "id": "coqUjTcEAdaZ",
        "outputId": "0a6a6479-ad4c-45ba-97b6-1fc286be420c"
      },
      "source": [
        "math.pi"
      ],
      "execution_count": null,
      "outputs": [
        {
          "output_type": "execute_result",
          "data": {
            "text/plain": [
              "3.141592653589793"
            ]
          },
          "metadata": {},
          "execution_count": 9
        }
      ]
    },
    {
      "cell_type": "code",
      "metadata": {
        "id": "Ir_khFoEAdlO"
      },
      "source": [
        "random.uniform?"
      ],
      "execution_count": null,
      "outputs": []
    },
    {
      "cell_type": "code",
      "metadata": {
        "id": "I4AT6OlIAdul"
      },
      "source": [
        "#math.pi?"
      ],
      "execution_count": null,
      "outputs": []
    },
    {
      "cell_type": "code",
      "metadata": {
        "id": "c6W2D_S23rWx",
        "colab": {
          "base_uri": "https://localhost:8080/",
          "height": 298
        },
        "outputId": "60e0f0fd-f61f-407e-e0c2-c96eb6bab0f5"
      },
      "source": [
        "import pylab\n",
        "import random\n",
        "import math\n",
        "x_inner, y_inner = [], []\n",
        "x_outer, y_outer = [], []\n",
        "for attempt in range(100000):\n",
        "    a, b = random.uniform(-1.0, 1.0), random.uniform(-1.0, 1.0)\n",
        "    if math.sqrt(a**2 + b**2) < 1.0:\n",
        "        x_inner.append(a)\n",
        "        y_inner.append(b)\n",
        "    else:\n",
        "        x_outer.append(a)\n",
        "        y_outer.append(b)\n",
        "pylab.scatter(x_inner, y_inner,c= 'red', marker = '.', s=1)\n",
        "pylab.scatter(x_outer, y_outer,c= 'blue', marker = '.', s=1)\n",
        "print(4*len(x_inner)/float(len(x_inner) + len(x_outer)), math.pi)\n",
        "pylab.axis('equal')\n",
        "pylab.title(\"jogo das crianças, com seixos coloridos\")\n",
        "pylab.savefig('direct_pi_color.png')\n",
        "pylab.show()\n",
        " "
      ],
      "execution_count": null,
      "outputs": [
        {
          "output_type": "stream",
          "name": "stdout",
          "text": [
            "3.14792 3.141592653589793\n"
          ]
        },
        {
          "output_type": "display_data",
          "data": {
            "image/png": "[encoded data removed]",
            "text/plain": [
              "<Figure size 432x288 with 1 Axes>"
            ]
          },
          "metadata": {
            "needs_background": "light"
          }
        }
      ]
    },
    {
      "cell_type": "code",
      "metadata": {
        "id": "rS_e2pkgAD5b"
      },
      "source": [],
      "execution_count": null,
      "outputs": []
    }
  ]
}